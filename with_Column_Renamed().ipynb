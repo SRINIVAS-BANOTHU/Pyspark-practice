{
  "nbformat": 4,
  "nbformat_minor": 0,
  "metadata": {
    "colab": {
      "provenance": [],
      "authorship_tag": "ABX9TyOKbz2WDKAJZauzaxLyulSM",
      "include_colab_link": true
    },
    "kernelspec": {
      "name": "python3",
      "display_name": "Python 3"
    },
    "language_info": {
      "name": "python"
    }
  },
  "cells": [
    {
      "cell_type": "markdown",
      "metadata": {
        "id": "view-in-github",
        "colab_type": "text"
      },
      "source": [
        "<a href=\"https://colab.research.google.com/github/SRINIVAS-BANOTHU/Pyspark-practice/blob/main/with_Column_Renamed().ipynb\" target=\"_parent\"><img src=\"https://colab.research.google.com/assets/colab-badge.svg\" alt=\"Open In Colab\"/></a>"
      ]
    },
    {
      "cell_type": "code",
      "execution_count": 1,
      "metadata": {
        "id": "Q-OV5vV03LH3"
      },
      "outputs": [],
      "source": [
        "from pyspark.sql import SparkSession\n"
      ]
    },
    {
      "cell_type": "code",
      "source": [
        "spark=SparkSession.builder.appName(\"withcolumn\").getOrCreate()"
      ],
      "metadata": {
        "id": "vm990bOt3Umj"
      },
      "execution_count": 2,
      "outputs": []
    },
    {
      "cell_type": "code",
      "source": [
        "#creating df\n",
        "data=[(1,\"srinivas\",30000),(2,\"sri\",25000)]\n",
        "schema=[\"id\",\"name\",\"salary\"]\n",
        "df=spark.createDataFrame(data,schema)\n",
        "df.printSchema()\n",
        "df.show()"
      ],
      "metadata": {
        "colab": {
          "base_uri": "https://localhost:8080/"
        },
        "id": "yihJzuuY3aDn",
        "outputId": "83d7144e-971b-436c-e024-11c0eb32c05e"
      },
      "execution_count": 4,
      "outputs": [
        {
          "output_type": "stream",
          "name": "stdout",
          "text": [
            "root\n",
            " |-- id: long (nullable = true)\n",
            " |-- name: string (nullable = true)\n",
            " |-- salary: long (nullable = true)\n",
            "\n",
            "+---+--------+------+\n",
            "| id|    name|salary|\n",
            "+---+--------+------+\n",
            "|  1|srinivas| 30000|\n",
            "|  2|     sri| 25000|\n",
            "+---+--------+------+\n",
            "\n"
          ]
        }
      ]
    },
    {
      "cell_type": "code",
      "source": [
        "df1=df.withColumnRenamed(\"salary\",\"Renamed_salary\")\n",
        "df1.show()"
      ],
      "metadata": {
        "colab": {
          "base_uri": "https://localhost:8080/"
        },
        "id": "u26Xy_0d3gO4",
        "outputId": "ecbf839d-b332-46e4-9cee-c91358621208"
      },
      "execution_count": 6,
      "outputs": [
        {
          "output_type": "stream",
          "name": "stdout",
          "text": [
            "+---+--------+--------------+\n",
            "| id|    name|Renamed_salary|\n",
            "+---+--------+--------------+\n",
            "|  1|srinivas|         30000|\n",
            "|  2|     sri|         25000|\n",
            "+---+--------+--------------+\n",
            "\n"
          ]
        }
      ]
    },
    {
      "cell_type": "code",
      "source": [],
      "metadata": {
        "id": "Jil8Xow338XK"
      },
      "execution_count": null,
      "outputs": []
    }
  ]
}