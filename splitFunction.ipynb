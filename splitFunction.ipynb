{
  "nbformat": 4,
  "nbformat_minor": 0,
  "metadata": {
    "colab": {
      "provenance": [],
      "authorship_tag": "ABX9TyO2llbju6kIq8C4FA7Z3XPB",
      "include_colab_link": true
    },
    "kernelspec": {
      "name": "python3",
      "display_name": "Python 3"
    },
    "language_info": {
      "name": "python"
    }
  },
  "cells": [
    {
      "cell_type": "markdown",
      "metadata": {
        "id": "view-in-github",
        "colab_type": "text"
      },
      "source": [
        "<a href=\"https://colab.research.google.com/github/SRINIVAS-BANOTHU/Pyspark-practice/blob/main/splitFunction.ipynb\" target=\"_parent\"><img src=\"https://colab.research.google.com/assets/colab-badge.svg\" alt=\"Open In Colab\"/></a>"
      ]
    },
    {
      "cell_type": "code",
      "execution_count": 26,
      "metadata": {
        "id": "GR8_TUVXfXyt"
      },
      "outputs": [],
      "source": [
        "from pyspark.sql import SparkSession\n",
        "from pyspark.sql.types import StructType,StructField,StringType,IntegerType"
      ]
    },
    {
      "cell_type": "code",
      "source": [
        "spark=SparkSession.builder.appName(\"Split\").getOrCreate()"
      ],
      "metadata": {
        "id": "LwWq0X6qgQeJ"
      },
      "execution_count": 27,
      "outputs": []
    },
    {
      "cell_type": "code",
      "source": [
        "data=[(1,\"srinu@gmail.com\"),(2,\"pavan@hotmail.com\")]\n",
        "schema=StructType([StructField(\"Id\",IntegerType()),\\\n",
        "                   StructField(\"Domain\",StringType())])\n",
        "df=spark.createDataFrame(data,schema)\n",
        "df.show()"
      ],
      "metadata": {
        "colab": {
          "base_uri": "https://localhost:8080/",
          "height": 174
        },
        "id": "_5rhIyd-ffXj",
        "outputId": "711ea479-a4f1-4c65-fda9-2930397b40eb"
      },
      "execution_count": 14,
      "outputs": [
        {
          "output_type": "stream",
          "name": "stdout",
          "text": [
            "+---+-----------------+\n",
            "| Id|           Domain|\n",
            "+---+-----------------+\n",
            "|  1|  srinu@gmail.com|\n",
            "|  2|pavan@hotmail.com|\n",
            "+---+-----------------+\n",
            "\n"
          ]
        },
        {
          "output_type": "execute_result",
          "data": {
            "text/plain": [
              "'chema=StructType([StructField(\"id\",IntegerType(),True),                   StructField(\"name\",StringType(),True),                   StructField(\"salary\",IntegerType(),True)])'"
            ],
            "application/vnd.google.colaboratory.intrinsic+json": {
              "type": "string"
            }
          },
          "metadata": {},
          "execution_count": 14
        }
      ]
    },
    {
      "cell_type": "code",
      "source": [
        "from pyspark.sql.functions import split\n",
        "(df.select(split(df.Domain,'@',0).alias(\"splitted\"))).show()"
      ],
      "metadata": {
        "id": "Fc654GQlgf-v",
        "colab": {
          "base_uri": "https://localhost:8080/"
        },
        "outputId": "4c06acdc-c12f-48e7-e985-d4190c9ea120"
      },
      "execution_count": 23,
      "outputs": [
        {
          "output_type": "stream",
          "name": "stdout",
          "text": [
            "+--------------------+\n",
            "|            splitted|\n",
            "+--------------------+\n",
            "|  [srinu, gmail.com]|\n",
            "|[pavan, hotmail.com]|\n",
            "+--------------------+\n",
            "\n"
          ]
        }
      ]
    },
    {
      "cell_type": "code",
      "source": [
        "(df.select(split(df.Domain,'@',0).getItem(1).alias(\"company_code\"))).show()\n"
      ],
      "metadata": {
        "colab": {
          "base_uri": "https://localhost:8080/"
        },
        "id": "FFBXa8lejoRo",
        "outputId": "ef01cd7a-2554-4939-af69-e9c0d7947550"
      },
      "execution_count": 25,
      "outputs": [
        {
          "output_type": "stream",
          "name": "stdout",
          "text": [
            "+------------+\n",
            "|company_code|\n",
            "+------------+\n",
            "|   gmail.com|\n",
            "| hotmail.com|\n",
            "+------------+\n",
            "\n"
          ]
        }
      ]
    },
    {
      "cell_type": "code",
      "source": [
        "from os import truncate\n",
        "from pyspark.sql.functions import current_timestamp\n",
        "from datetime import datetime\n",
        "data=[(\"srinivas\",datetime.now()),(\"pavan\",datetime.now())]\n",
        "schema=[\"name\",\"timestamp\"]\n",
        "df1=spark.createDataFrame(data,schema)\n",
        "df1.show(truncate=False)"
      ],
      "metadata": {
        "colab": {
          "base_uri": "https://localhost:8080/"
        },
        "id": "pagRAwzNj8MM",
        "outputId": "c6cb35ab-b417-460d-c5aa-2df8a8178fcb"
      },
      "execution_count": 29,
      "outputs": [
        {
          "output_type": "stream",
          "name": "stdout",
          "text": [
            "+--------+--------------------------+\n",
            "|name    |timestamp                 |\n",
            "+--------+--------------------------+\n",
            "|srinivas|2025-02-17 07:02:10.726197|\n",
            "|pavan   |2025-02-17 07:02:10.7262  |\n",
            "+--------+--------------------------+\n",
            "\n"
          ]
        }
      ]
    },
    {
      "cell_type": "code",
      "source": [
        "from pyspark.sql.functions import date_format\n",
        "formatted_df=df1.withColumn(\"date_string\",date_format(df1.timestamp,\"dd MMMM\"))\n",
        "formatted_df.show(truncate=False)"
      ],
      "metadata": {
        "colab": {
          "base_uri": "https://localhost:8080/"
        },
        "id": "mhc1f02-tds-",
        "outputId": "b97f2879-c677-4e8d-d9d4-56df4a78dc17"
      },
      "execution_count": 33,
      "outputs": [
        {
          "output_type": "stream",
          "name": "stdout",
          "text": [
            "+--------+--------------------------+-----------+\n",
            "|name    |timestamp                 |date_string|\n",
            "+--------+--------------------------+-----------+\n",
            "|srinivas|2025-02-17 07:02:10.726197|17 February|\n",
            "|pavan   |2025-02-17 07:02:10.7262  |17 February|\n",
            "+--------+--------------------------+-----------+\n",
            "\n"
          ]
        }
      ]
    },
    {
      "cell_type": "code",
      "source": [],
      "metadata": {
        "id": "yo3QyyvBuYQr"
      },
      "execution_count": null,
      "outputs": []
    }
  ]
}