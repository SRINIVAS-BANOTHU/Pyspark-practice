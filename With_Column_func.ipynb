{
  "nbformat": 4,
  "nbformat_minor": 0,
  "metadata": {
    "colab": {
      "provenance": [],
      "authorship_tag": "ABX9TyOBLNe8k3n3Siex5nKmdWev",
      "include_colab_link": true
    },
    "kernelspec": {
      "name": "python3",
      "display_name": "Python 3"
    },
    "language_info": {
      "name": "python"
    }
  },
  "cells": [
    {
      "cell_type": "markdown",
      "metadata": {
        "id": "view-in-github",
        "colab_type": "text"
      },
      "source": [
        "<a href=\"https://colab.research.google.com/github/SRINIVAS-BANOTHU/Pyspark-practice/blob/main/With_Column_func.ipynb\" target=\"_parent\"><img src=\"https://colab.research.google.com/assets/colab-badge.svg\" alt=\"Open In Colab\"/></a>"
      ]
    },
    {
      "cell_type": "code",
      "execution_count": 1,
      "metadata": {
        "id": "cM8Yka1AQXYZ"
      },
      "outputs": [],
      "source": [
        "from pyspark.sql import SparkSession\n",
        "from pyspark.sql.types import StringType as type"
      ]
    },
    {
      "cell_type": "code",
      "source": [
        "spark=SparkSession.builder.appName(\"withcolumn\").getOrCreate()"
      ],
      "metadata": {
        "id": "wV4tGWf1Qde_"
      },
      "execution_count": 2,
      "outputs": []
    },
    {
      "cell_type": "code",
      "source": [
        "#creating df\n",
        "data=[(1,\"srinivas\",\"30000\"),(2,\"sri\",\"25000\")]\n",
        "schema=[\"id\",\"name\",\"salary\"]\n",
        "df=spark.createDataFrame(data,schema)\n",
        "df.printSchema()\n",
        "df.show()"
      ],
      "metadata": {
        "colab": {
          "base_uri": "https://localhost:8080/"
        },
        "id": "-o57bSsBQwr0",
        "outputId": "547d40f1-73a1-4514-b999-86a4b7158c9e"
      },
      "execution_count": 3,
      "outputs": [
        {
          "output_type": "stream",
          "name": "stdout",
          "text": [
            "root\n",
            " |-- id: long (nullable = true)\n",
            " |-- name: string (nullable = true)\n",
            " |-- salary: string (nullable = true)\n",
            "\n",
            "+---+--------+------+\n",
            "| id|    name|salary|\n",
            "+---+--------+------+\n",
            "|  1|srinivas| 30000|\n",
            "|  2|     sri| 25000|\n",
            "+---+--------+------+\n",
            "\n"
          ]
        }
      ]
    },
    {
      "cell_type": "code",
      "source": [
        "#altering salary datatype with \"withColumn\" func\n",
        "df_dataType=df.withColumn(\"salary\",df[\"salary\"].cast(\"Integer\"))\n",
        "df_dataType.printSchema()\n",
        "df_dataType.show()"
      ],
      "metadata": {
        "colab": {
          "base_uri": "https://localhost:8080/"
        },
        "id": "0lTwxgILRWMG",
        "outputId": "72d45c9e-07b2-4aa2-d945-88d6552d6540"
      },
      "execution_count": 4,
      "outputs": [
        {
          "output_type": "stream",
          "name": "stdout",
          "text": [
            "root\n",
            " |-- id: long (nullable = true)\n",
            " |-- name: string (nullable = true)\n",
            " |-- salary: integer (nullable = true)\n",
            "\n",
            "+---+--------+------+\n",
            "| id|    name|salary|\n",
            "+---+--------+------+\n",
            "|  1|srinivas| 30000|\n",
            "|  2|     sri| 25000|\n",
            "+---+--------+------+\n",
            "\n"
          ]
        }
      ]
    },
    {
      "cell_type": "code",
      "source": [
        "#updating salary by multiplying salary with 2 using \"withColumn\" func\n",
        "df_salary=df_dataType.withColumn(\"salary\",df_dataType[\"salary\"]*2)\n",
        "df_salary.show()"
      ],
      "metadata": {
        "colab": {
          "base_uri": "https://localhost:8080/"
        },
        "id": "5wf3z1cRSFrh",
        "outputId": "e6ce5e78-a5fd-48f0-da0b-0150590898a4"
      },
      "execution_count": 5,
      "outputs": [
        {
          "output_type": "stream",
          "name": "stdout",
          "text": [
            "+---+--------+------+\n",
            "| id|    name|salary|\n",
            "+---+--------+------+\n",
            "|  1|srinivas| 60000|\n",
            "|  2|     sri| 50000|\n",
            "+---+--------+------+\n",
            "\n"
          ]
        }
      ]
    },
    {
      "cell_type": "code",
      "source": [
        "#adding new column\n",
        "from pyspark.sql.functions import lit\n",
        "df_column=df.withColumn(\"dept\",lit(\"asset\"))\n",
        "df_column.show()"
      ],
      "metadata": {
        "colab": {
          "base_uri": "https://localhost:8080/"
        },
        "id": "LSIg-0VHSuu6",
        "outputId": "a3fddfcc-36fb-4fd2-d06a-951f0cf3b697"
      },
      "execution_count": 6,
      "outputs": [
        {
          "output_type": "stream",
          "name": "stdout",
          "text": [
            "+---+--------+------+-----+\n",
            "| id|    name|salary| dept|\n",
            "+---+--------+------+-----+\n",
            "|  1|srinivas| 30000|asset|\n",
            "|  2|     sri| 25000|asset|\n",
            "+---+--------+------+-----+\n",
            "\n"
          ]
        }
      ]
    },
    {
      "cell_type": "code",
      "source": [],
      "metadata": {
        "id": "VeAvm4J8TMxc"
      },
      "execution_count": null,
      "outputs": []
    }
  ]
}