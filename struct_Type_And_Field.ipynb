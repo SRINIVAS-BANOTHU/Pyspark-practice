{
  "nbformat": 4,
  "nbformat_minor": 0,
  "metadata": {
    "colab": {
      "provenance": [],
      "authorship_tag": "ABX9TyNNHrwI5vfQ7kvOHQ+9H6RQ",
      "include_colab_link": true
    },
    "kernelspec": {
      "name": "python3",
      "display_name": "Python 3"
    },
    "language_info": {
      "name": "python"
    }
  },
  "cells": [
    {
      "cell_type": "markdown",
      "metadata": {
        "id": "view-in-github",
        "colab_type": "text"
      },
      "source": [
        "<a href=\"https://colab.research.google.com/github/SRINIVAS-BANOTHU/Pyspark-practice/blob/main/struct_Type_And_Field.ipynb\" target=\"_parent\"><img src=\"https://colab.research.google.com/assets/colab-badge.svg\" alt=\"Open In Colab\"/></a>"
      ]
    },
    {
      "cell_type": "code",
      "execution_count": 3,
      "metadata": {
        "id": "aRfLOChQ5sG5"
      },
      "outputs": [],
      "source": [
        "from pyspark.sql import SparkSession\n",
        "from pyspark.sql.types import StructType,StructField,StringType,IntegerType"
      ]
    },
    {
      "cell_type": "code",
      "source": [
        "spark=SparkSession.builder.appName('practice').getOrCreate()"
      ],
      "metadata": {
        "id": "RtMNm6EF8sIz"
      },
      "execution_count": 2,
      "outputs": []
    },
    {
      "cell_type": "code",
      "source": [
        "data=[(1,\"sri\",30000),(2,\"srinu\",25000)]\n",
        "schema=StructType([StructField(\"id\",IntegerType(),True),\\\n",
        "                   StructField(\"name\",StringType(),True),\\\n",
        "                   StructField(\"salary\",IntegerType(),True)])\n",
        "df=spark.createDataFrame(data,schema)\n",
        "df.printSchema()\n",
        "df.show()"
      ],
      "metadata": {
        "colab": {
          "base_uri": "https://localhost:8080/"
        },
        "id": "GxdPzGtj8zFN",
        "outputId": "949e198e-828c-4de0-c650-6669ce150375"
      },
      "execution_count": 4,
      "outputs": [
        {
          "output_type": "stream",
          "name": "stdout",
          "text": [
            "root\n",
            " |-- id: integer (nullable = true)\n",
            " |-- name: string (nullable = true)\n",
            " |-- salary: integer (nullable = true)\n",
            "\n",
            "+---+-----+------+\n",
            "| id| name|salary|\n",
            "+---+-----+------+\n",
            "|  1|  sri| 30000|\n",
            "|  2|srinu| 25000|\n",
            "+---+-----+------+\n",
            "\n"
          ]
        }
      ]
    },
    {
      "cell_type": "code",
      "source": [
        "#complex column nested column names\n",
        "data=[(1,(\"sri\",\"nayak\"),30000),(2,(\"srinu\",\"nayak\"),25000)]\n",
        "structName=StructType([StructField(\"first_name\",StringType()),\\\n",
        "                       StructField(\"last_name\",StringType())])\n",
        "schema=StructType([StructField(\"id\",IntegerType(),True),\\\n",
        "                   StructField(\"name\",structName,True),\\\n",
        "                   StructField(\"salary\",IntegerType(),True)])\n",
        "df=spark.createDataFrame(data,schema)\n",
        "df.printSchema()\n",
        "df.show()"
      ],
      "metadata": {
        "colab": {
          "base_uri": "https://localhost:8080/"
        },
        "id": "SKGzY2ml5xsy",
        "outputId": "9e14fc20-047c-4088-fda5-90c9becccb1b"
      },
      "execution_count": 5,
      "outputs": [
        {
          "output_type": "stream",
          "name": "stdout",
          "text": [
            "root\n",
            " |-- id: integer (nullable = true)\n",
            " |-- name: struct (nullable = true)\n",
            " |    |-- first_name: string (nullable = true)\n",
            " |    |-- last_name: string (nullable = true)\n",
            " |-- salary: integer (nullable = true)\n",
            "\n",
            "+---+--------------+------+\n",
            "| id|          name|salary|\n",
            "+---+--------------+------+\n",
            "|  1|  {sri, nayak}| 30000|\n",
            "|  2|{srinu, nayak}| 25000|\n",
            "+---+--------------+------+\n",
            "\n"
          ]
        }
      ]
    },
    {
      "cell_type": "code",
      "source": [],
      "metadata": {
        "id": "45c-e_tG8yF-"
      },
      "execution_count": null,
      "outputs": []
    }
  ]
}