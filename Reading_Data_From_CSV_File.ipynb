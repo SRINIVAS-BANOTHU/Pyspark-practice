{
  "nbformat": 4,
  "nbformat_minor": 0,
  "metadata": {
    "colab": {
      "provenance": [],
      "mount_file_id": "1eI5XUsp9Z6u9i2YeIP9BsFCBCUfArcBw",
      "authorship_tag": "ABX9TyMS5vjjkwVIOlW4HEgAPVW6",
      "include_colab_link": true
    },
    "kernelspec": {
      "name": "python3",
      "display_name": "Python 3"
    },
    "language_info": {
      "name": "python"
    }
  },
  "cells": [
    {
      "cell_type": "markdown",
      "metadata": {
        "id": "view-in-github",
        "colab_type": "text"
      },
      "source": [
        "<a href=\"https://colab.research.google.com/github/SRINIVAS-BANOTHU/Pyspark-practice/blob/main/Reading_Data_From_CSV_File.ipynb\" target=\"_parent\"><img src=\"https://colab.research.google.com/assets/colab-badge.svg\" alt=\"Open In Colab\"/></a>"
      ]
    },
    {
      "cell_type": "code",
      "execution_count": null,
      "metadata": {
        "id": "wahMgWet0KAN"
      },
      "outputs": [],
      "source": [
        "from pyspark.sql import SparkSession\n",
        "from pyspark.sql.types import StructType,StructField,IntegerType,StringType\n",
        "import pyspark.sql.functions as func"
      ]
    },
    {
      "cell_type": "code",
      "source": [
        "spark=SparkSession.builder.appName(\"FirstApp\").getOrCreate()"
      ],
      "metadata": {
        "id": "cllqJRVs0yCa"
      },
      "execution_count": null,
      "outputs": []
    },
    {
      "cell_type": "code",
      "source": [
        "people=spark.read.format(\"csv\").option(\"path\",\"/content/drive/MyDrive/titanic.csv\").option('header','True').load()"
      ],
      "metadata": {
        "id": "px9HMdVG1lMb"
      },
      "execution_count": null,
      "outputs": []
    },
    {
      "cell_type": "code",
      "source": [
        "people.show()"
      ],
      "metadata": {
        "colab": {
          "base_uri": "https://localhost:8080/"
        },
        "id": "BJS_rktz1o7l",
        "outputId": "924911bc-5659-42a6-e4be-4fb2a791956a"
      },
      "execution_count": null,
      "outputs": [
        {
          "output_type": "stream",
          "name": "stdout",
          "text": [
            "+-----------+--------+------+--------------------+------+----+-----+-----+----------------+-------+-----+--------+\n",
            "|PassengerId|Survived|Pclass|                Name|   Sex| Age|SibSp|Parch|          Ticket|   Fare|Cabin|Embarked|\n",
            "+-----------+--------+------+--------------------+------+----+-----+-----+----------------+-------+-----+--------+\n",
            "|          1|       0|     3|Braund, Mr. Owen ...|  male|  22|    1|    0|       A/5 21171|   7.25| NULL|       S|\n",
            "|          2|       1|     1|Cumings, Mrs. Joh...|female|  38|    1|    0|        PC 17599|71.2833|  C85|       C|\n",
            "|          3|       1|     3|Heikkinen, Miss. ...|female|  26|    0|    0|STON/O2. 3101282|  7.925| NULL|       S|\n",
            "|          4|       1|     1|Futrelle, Mrs. Ja...|female|  35|    1|    0|          113803|   53.1| C123|       S|\n",
            "|          5|       0|     3|Allen, Mr. Willia...|  male|  35|    0|    0|          373450|   8.05| NULL|       S|\n",
            "|          6|       0|     3|    Moran, Mr. James|  male|NULL|    0|    0|          330877| 8.4583| NULL|       Q|\n",
            "|          7|       0|     1|McCarthy, Mr. Tim...|  male|  54|    0|    0|           17463|51.8625|  E46|       S|\n",
            "|          8|       0|     3|Palsson, Master. ...|  male|   2|    3|    1|          349909| 21.075| NULL|       S|\n",
            "|          9|       1|     3|Johnson, Mrs. Osc...|female|  27|    0|    2|          347742|11.1333| NULL|       S|\n",
            "|         10|       1|     2|Nasser, Mrs. Nich...|female|  14|    1|    0|          237736|30.0708| NULL|       C|\n",
            "|         11|       1|     3|Sandstrom, Miss. ...|female|   4|    1|    1|         PP 9549|   16.7|   G6|       S|\n",
            "|         12|       1|     1|Bonnell, Miss. El...|female|  58|    0|    0|          113783|  26.55| C103|       S|\n",
            "|         13|       0|     3|Saundercock, Mr. ...|  male|  20|    0|    0|       A/5. 2151|   8.05| NULL|       S|\n",
            "|         14|       0|     3|Andersson, Mr. An...|  male|  39|    1|    5|          347082| 31.275| NULL|       S|\n",
            "|         15|       0|     3|Vestrom, Miss. Hu...|female|  14|    0|    0|          350406| 7.8542| NULL|       S|\n",
            "|         16|       1|     2|Hewlett, Mrs. (Ma...|female|  55|    0|    0|          248706|     16| NULL|       S|\n",
            "|         17|       0|     3|Rice, Master. Eugene|  male|   2|    4|    1|          382652| 29.125| NULL|       Q|\n",
            "|         18|       1|     2|Williams, Mr. Cha...|  male|NULL|    0|    0|          244373|     13| NULL|       S|\n",
            "|         19|       0|     3|Vander Planke, Mr...|female|  31|    1|    0|          345763|     18| NULL|       S|\n",
            "|         20|       1|     3|Masselmani, Mrs. ...|female|NULL|    0|    0|            2649|  7.225| NULL|       C|\n",
            "+-----------+--------+------+--------------------+------+----+-----+-----+----------------+-------+-----+--------+\n",
            "only showing top 20 rows\n",
            "\n"
          ]
        }
      ]
    },
    {
      "cell_type": "code",
      "source": [
        "output=people.select(people.PassengerId,\\\n",
        "                     people.Name,\\\n",
        "                     people.Age,\\\n",
        "                     people.Sex)\\\n",
        "                     .where(people.Age>40)\\\n",
        "                     .withColumn(\"insert_ts\",func.current_timestamp())\\\n",
        "                     .orderBy(people.PassengerId)"
      ],
      "metadata": {
        "id": "1uA1U6_e2H2M"
      },
      "execution_count": 20,
      "outputs": []
    },
    {
      "cell_type": "code",
      "source": [
        "output.show()"
      ],
      "metadata": {
        "colab": {
          "base_uri": "https://localhost:8080/"
        },
        "id": "Ja4XGCzj3fmU",
        "outputId": "3688e2b2-8db0-4ee1-f12c-443557a36bdf"
      },
      "execution_count": 21,
      "outputs": [
        {
          "output_type": "stream",
          "name": "stdout",
          "text": [
            "+-----------+--------------------+----+------+--------------------+\n",
            "|PassengerId|                Name| Age|   Sex|           insert_ts|\n",
            "+-----------+--------------------+----+------+--------------------+\n",
            "|        111|Porter, Mr. Walte...|  47|  male|2025-01-05 09:52:...|\n",
            "|        117|Connors, Mr. Patrick|70.5|  male|2025-01-05 09:52:...|\n",
            "|         12|Bonnell, Miss. El...|  58|female|2025-01-05 09:52:...|\n",
            "|        125|White, Mr. Perciv...|  54|  male|2025-01-05 09:52:...|\n",
            "|        130|  Ekstrom, Mr. Johan|  45|  male|2025-01-05 09:52:...|\n",
            "|        133|Robins, Mrs. Alex...|  47|female|2025-01-05 09:52:...|\n",
            "|        150|Byles, Rev. Thoma...|  42|  male|2025-01-05 09:52:...|\n",
            "|        151|Bateman, Rev. Rob...|  51|  male|2025-01-05 09:52:...|\n",
            "|        153|    Meo, Mr. Alfonzo|55.5|  male|2025-01-05 09:52:...|\n",
            "|        156|Williams, Mr. Cha...|  51|  male|2025-01-05 09:52:...|\n",
            "|         16|Hewlett, Mrs. (Ma...|  55|female|2025-01-05 09:52:...|\n",
            "|        161|Cribb, Mr. John H...|  44|  male|2025-01-05 09:52:...|\n",
            "|        168|Skoog, Mrs. Willi...|  45|female|2025-01-05 09:52:...|\n",
            "|        171|Van der hoef, Mr....|  61|  male|2025-01-05 09:52:...|\n",
            "|        175|Smith, Mr. James ...|  56|  male|2025-01-05 09:52:...|\n",
            "|        178|Isham, Miss. Ann ...|  50|female|2025-01-05 09:52:...|\n",
            "|        188|\"Romaine, Mr. Cha...|  45|  male|2025-01-05 09:52:...|\n",
            "|        195|Brown, Mrs. James...|  44|female|2025-01-05 09:52:...|\n",
            "|        196|Lurette, Miss. Elise|  58|female|2025-01-05 09:52:...|\n",
            "|        198|Olsen, Mr. Karl S...|  42|  male|2025-01-05 09:52:...|\n",
            "+-----------+--------------------+----+------+--------------------+\n",
            "only showing top 20 rows\n",
            "\n"
          ]
        }
      ]
    },
    {
      "cell_type": "code",
      "source": [],
      "metadata": {
        "id": "VJPoUgFA31xH"
      },
      "execution_count": null,
      "outputs": []
    }
  ]
}