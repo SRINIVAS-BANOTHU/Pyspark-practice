{
  "nbformat": 4,
  "nbformat_minor": 0,
  "metadata": {
    "colab": {
      "provenance": [],
      "mount_file_id": "1eI5XUsp9Z6u9i2YeIP9BsFCBCUfArcBw",
      "authorship_tag": "ABX9TyPe1S2ZP9glpIZSfTYtaeze",
      "include_colab_link": true
    },
    "kernelspec": {
      "name": "python3",
      "display_name": "Python 3"
    },
    "language_info": {
      "name": "python"
    }
  },
  "cells": [
    {
      "cell_type": "markdown",
      "metadata": {
        "id": "view-in-github",
        "colab_type": "text"
      },
      "source": [
        "<a href=\"https://colab.research.google.com/github/SRINIVAS-BANOTHU/Pyspark-practice/blob/main/Reading_Data_From_CSV_File_2.ipynb\" target=\"_parent\"><img src=\"https://colab.research.google.com/assets/colab-badge.svg\" alt=\"Open In Colab\"/></a>"
      ]
    },
    {
      "cell_type": "code",
      "source": [
        "#reading single csv file\n",
        "df=spark.read.format('csv').option('header','true').option('path','/content/drive/MyDrive/Colab Notebooks/Data/read operations/Employee1.csv').load()\n",
        "df.show()\n",
        "df.printSchema()"
      ],
      "metadata": {
        "colab": {
          "base_uri": "https://localhost:8080/"
        },
        "id": "VJPoUgFA31xH",
        "outputId": "adba9fe9-940c-4a9d-d247-d84b29c169b8"
      },
      "execution_count": 22,
      "outputs": [
        {
          "output_type": "stream",
          "name": "stdout",
          "text": [
            "+---+-----+------+------+\n",
            "| id| name|gender|salary|\n",
            "+---+-----+------+------+\n",
            "|101|  sri|  male| 10000|\n",
            "|102|arjun|  male| 15000|\n",
            "+---+-----+------+------+\n",
            "\n",
            "root\n",
            " |-- id: string (nullable = true)\n",
            " |-- name: string (nullable = true)\n",
            " |-- gender: string (nullable = true)\n",
            " |-- salary: string (nullable = true)\n",
            "\n"
          ]
        }
      ]
    },
    {
      "cell_type": "code",
      "source": [
        "#to detect datatype automatically we use \"inferschema\"\n",
        "df=spark.read.format('csv').option('header','true').option('inferschema','true').option('path','/content/drive/MyDrive/Colab Notebooks/Data/read operations/Employee2.csv').load()\n",
        "df.show()\n",
        "df.printSchema()"
      ],
      "metadata": {
        "colab": {
          "base_uri": "https://localhost:8080/"
        },
        "id": "3re97S4Y5QyW",
        "outputId": "9087ea91-b836-4e71-e27c-c97bf448980a"
      },
      "execution_count": 23,
      "outputs": [
        {
          "output_type": "stream",
          "name": "stdout",
          "text": [
            "+---+------+------+------+\n",
            "| id|  name|gender|salary|\n",
            "+---+------+------+------+\n",
            "|103|  Abhi|female| 12000|\n",
            "|104|lahari|female| 13000|\n",
            "+---+------+------+------+\n",
            "\n",
            "root\n",
            " |-- id: integer (nullable = true)\n",
            " |-- name: string (nullable = true)\n",
            " |-- gender: string (nullable = true)\n",
            " |-- salary: integer (nullable = true)\n",
            "\n"
          ]
        }
      ]
    },
    {
      "cell_type": "code",
      "source": [
        "#reading 2 files into spark\n",
        "from pyspark.sql.types import*\n",
        "schema=StructType([\n",
        "    StructField(name=\"Id\",dataType=IntegerType()),\n",
        "    StructField(name=\"Name\",dataType=StringType()),\n",
        "    StructField(name=\"gender\",dataType=IntegerType()),\n",
        "    StructField(name=\"Salary\",dataType=IntegerType())\n",
        "])\n",
        "df=spark.read.csv(path=['/content/drive/MyDrive/Colab Notebooks/Data/read operations/Employee1.csv','/content/drive/MyDrive/Colab Notebooks/Data/read operations/Employee2.csv'],header=True,schema=schema)\n",
        "df.show()\n",
        "df.printSchema()"
      ],
      "metadata": {
        "colab": {
          "base_uri": "https://localhost:8080/"
        },
        "id": "wuqERHYQ5Urc",
        "outputId": "29d4e0fd-ea56-4c9f-c761-00b6119907a6"
      },
      "execution_count": 24,
      "outputs": [
        {
          "output_type": "stream",
          "name": "stdout",
          "text": [
            "+---+------+------+------+\n",
            "| Id|  Name|gender|Salary|\n",
            "+---+------+------+------+\n",
            "|103|  Abhi|  NULL| 12000|\n",
            "|104|lahari|  NULL| 13000|\n",
            "|101|   sri|  NULL| 10000|\n",
            "|102| arjun|  NULL| 15000|\n",
            "+---+------+------+------+\n",
            "\n",
            "root\n",
            " |-- Id: integer (nullable = true)\n",
            " |-- Name: string (nullable = true)\n",
            " |-- gender: integer (nullable = true)\n",
            " |-- Salary: integer (nullable = true)\n",
            "\n"
          ]
        }
      ]
    },
    {
      "cell_type": "code",
      "source": [
        "#creating temp view. by creating temporary view we can perform sql operations directly on dataframe.\n",
        "df.createOrReplaceTempView(\"emp\")"
      ],
      "metadata": {
        "id": "OB1ZwLMG5Zvc"
      },
      "execution_count": 25,
      "outputs": []
    },
    {
      "cell_type": "code",
      "source": [
        "spark.sql('select Id,Name,Salary from emp where Salary>10000').show()"
      ],
      "metadata": {
        "colab": {
          "base_uri": "https://localhost:8080/"
        },
        "id": "xK52fWvx5ox5",
        "outputId": "5c882395-aed8-40cc-e1e3-3e509514b3c7"
      },
      "execution_count": 26,
      "outputs": [
        {
          "output_type": "stream",
          "name": "stdout",
          "text": [
            "+---+------+------+\n",
            "| Id|  Name|Salary|\n",
            "+---+------+------+\n",
            "|103|  Abhi| 12000|\n",
            "|104|lahari| 13000|\n",
            "|102| arjun| 15000|\n",
            "+---+------+------+\n",
            "\n"
          ]
        }
      ]
    },
    {
      "cell_type": "code",
      "source": [],
      "metadata": {
        "id": "cFwU4Zpy5xSQ"
      },
      "execution_count": null,
      "outputs": []
    }
  ]
}