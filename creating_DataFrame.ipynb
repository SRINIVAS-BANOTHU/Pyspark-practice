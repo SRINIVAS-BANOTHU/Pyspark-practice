{
  "nbformat": 4,
  "nbformat_minor": 0,
  "metadata": {
    "colab": {
      "provenance": [],
      "authorship_tag": "ABX9TyMitcAOdb4OUQTYNOnSnX2a",
      "include_colab_link": true
    },
    "kernelspec": {
      "name": "python3",
      "display_name": "Python 3"
    },
    "language_info": {
      "name": "python"
    }
  },
  "cells": [
    {
      "cell_type": "markdown",
      "metadata": {
        "id": "view-in-github",
        "colab_type": "text"
      },
      "source": [
        "<a href=\"https://colab.research.google.com/github/SRINIVAS-BANOTHU/Pyspark-practice/blob/main/creating_DataFrame.ipynb\" target=\"_parent\"><img src=\"https://colab.research.google.com/assets/colab-badge.svg\" alt=\"Open In Colab\"/></a>"
      ]
    },
    {
      "cell_type": "code",
      "execution_count": 1,
      "metadata": {
        "id": "wahMgWet0KAN"
      },
      "outputs": [],
      "source": [
        "from pyspark.sql import SparkSession"
      ]
    },
    {
      "cell_type": "code",
      "source": [
        "spark=SparkSession.builder.appName(\"Spark DF\").getOrCreate()"
      ],
      "metadata": {
        "id": "ESlgpJ9R0T7M"
      },
      "execution_count": 2,
      "outputs": []
    },
    {
      "cell_type": "code",
      "source": [
        "#creating df\n",
        "data=[(1,\"srinivas\"),(2,\"sri\")]\n",
        "df=spark.createDataFrame(data=data)\n",
        "df.show()"
      ],
      "metadata": {
        "colab": {
          "base_uri": "https://localhost:8080/"
        },
        "id": "tpCl-fDn0akL",
        "outputId": "aa6b5a79-31fa-4568-cc82-a505cd9253bd"
      },
      "execution_count": 3,
      "outputs": [
        {
          "output_type": "stream",
          "name": "stdout",
          "text": [
            "+---+--------+\n",
            "| _1|      _2|\n",
            "+---+--------+\n",
            "|  1|srinivas|\n",
            "|  2|     sri|\n",
            "+---+--------+\n",
            "\n"
          ]
        }
      ]
    },
    {
      "cell_type": "code",
      "source": [
        "df.printSchema()"
      ],
      "metadata": {
        "colab": {
          "base_uri": "https://localhost:8080/"
        },
        "id": "QVn3jh870f6W",
        "outputId": "6005103d-b37e-42ad-ced1-c4a9ce64ef8d"
      },
      "execution_count": 4,
      "outputs": [
        {
          "output_type": "stream",
          "name": "stdout",
          "text": [
            "root\n",
            " |-- _1: long (nullable = true)\n",
            " |-- _2: string (nullable = true)\n",
            "\n"
          ]
        }
      ]
    },
    {
      "cell_type": "code",
      "source": [
        "#creating df with schema\n",
        "data=[(1,\"srinivas\"),(2,\"sri\")]\n",
        "df=spark.createDataFrame(data=data,schema=[\"id\",\"name\"])\n",
        "df.show()"
      ],
      "metadata": {
        "colab": {
          "base_uri": "https://localhost:8080/"
        },
        "id": "j8gWoehu0knZ",
        "outputId": "a8642969-bcb3-4a4f-d315-9fb21c48f360"
      },
      "execution_count": 5,
      "outputs": [
        {
          "output_type": "stream",
          "name": "stdout",
          "text": [
            "+---+--------+\n",
            "| id|    name|\n",
            "+---+--------+\n",
            "|  1|srinivas|\n",
            "|  2|     sri|\n",
            "+---+--------+\n",
            "\n"
          ]
        }
      ]
    },
    {
      "cell_type": "code",
      "source": [
        "#creating schema with custom data types\n",
        "from pyspark.sql.types import*\n",
        "schema=StructType([\n",
        "    StructField(name=\"id\",dataType=IntegerType()),\n",
        "    StructField(name=\"name\",dataType=StringType())\n",
        "])\n",
        "data=[(1,\"srinivas\"),(2,\"sri\")]\n",
        "df=spark.createDataFrame(data=data,schema=schema)\n",
        "df.show()\n",
        "df.printSchema()"
      ],
      "metadata": {
        "colab": {
          "base_uri": "https://localhost:8080/"
        },
        "id": "_Dyf9k940p8G",
        "outputId": "615154e3-1613-4a7d-9b9d-6e07de4015fe"
      },
      "execution_count": 6,
      "outputs": [
        {
          "output_type": "stream",
          "name": "stdout",
          "text": [
            "+---+--------+\n",
            "| id|    name|\n",
            "+---+--------+\n",
            "|  1|srinivas|\n",
            "|  2|     sri|\n",
            "+---+--------+\n",
            "\n",
            "root\n",
            " |-- id: integer (nullable = true)\n",
            " |-- name: string (nullable = true)\n",
            "\n"
          ]
        }
      ]
    },
    {
      "cell_type": "code",
      "source": [
        "#creating df with dictionary type. it takes schema by inbuilt as it is akey value pair\n",
        "data=[{\"id\":1,\"name\":\"sri\"},{\"id\":2,\"name\":\"srinivas\"}]\n",
        "df=spark.createDataFrame(data=data)\n",
        "df.show()\n",
        "df.printSchema()"
      ],
      "metadata": {
        "colab": {
          "base_uri": "https://localhost:8080/"
        },
        "id": "T0mBVxAA0uXb",
        "outputId": "3f7125c2-bfcc-47d6-c354-208d1b2f42d5"
      },
      "execution_count": 7,
      "outputs": [
        {
          "output_type": "stream",
          "name": "stdout",
          "text": [
            "+---+--------+\n",
            "| id|    name|\n",
            "+---+--------+\n",
            "|  1|     sri|\n",
            "|  2|srinivas|\n",
            "+---+--------+\n",
            "\n",
            "root\n",
            " |-- id: long (nullable = true)\n",
            " |-- name: string (nullable = true)\n",
            "\n"
          ]
        }
      ]
    },
    {
      "cell_type": "code",
      "source": [],
      "metadata": {
        "id": "cllqJRVs0yCa"
      },
      "execution_count": null,
      "outputs": []
    }
  ]
}