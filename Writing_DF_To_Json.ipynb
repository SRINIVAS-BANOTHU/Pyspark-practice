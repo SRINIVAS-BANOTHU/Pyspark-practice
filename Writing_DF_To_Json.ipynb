{
  "nbformat": 4,
  "nbformat_minor": 0,
  "metadata": {
    "colab": {
      "provenance": [],
      "mount_file_id": "1Hncsyw22JuUDJwQ67SjVqRwpznKx7XJp",
      "authorship_tag": "ABX9TyMOtKKtbDXlvcpwCwakhENO",
      "include_colab_link": true
    },
    "kernelspec": {
      "name": "python3",
      "display_name": "Python 3"
    },
    "language_info": {
      "name": "python"
    }
  },
  "cells": [
    {
      "cell_type": "markdown",
      "metadata": {
        "id": "view-in-github",
        "colab_type": "text"
      },
      "source": [
        "<a href=\"https://colab.research.google.com/github/SRINIVAS-BANOTHU/Pyspark-practice/blob/main/Writing_DF_To_Json.ipynb\" target=\"_parent\"><img src=\"https://colab.research.google.com/assets/colab-badge.svg\" alt=\"Open In Colab\"/></a>"
      ]
    },
    {
      "cell_type": "code",
      "execution_count": 1,
      "metadata": {
        "id": "gaxURXYV6HmC"
      },
      "outputs": [],
      "source": [
        "from pyspark.sql import SparkSession"
      ]
    },
    {
      "cell_type": "code",
      "source": [
        "spark=SparkSession.builder.appName(\"pyspark_test\").getOrCreate()"
      ],
      "metadata": {
        "id": "ptaOB5MA6b83"
      },
      "execution_count": 2,
      "outputs": []
    },
    {
      "cell_type": "code",
      "source": [
        "#creating DF\n",
        "data=[(1,\"ram\"),(2,\"ravi\")]\n",
        "schema=[\"id\",\"name\"]\n",
        "df=spark.createDataFrame(data,schema)"
      ],
      "metadata": {
        "id": "3e_OuTb16kZp"
      },
      "execution_count": 3,
      "outputs": []
    },
    {
      "cell_type": "code",
      "source": [
        "df.show()\n",
        "df.printSchema()"
      ],
      "metadata": {
        "colab": {
          "base_uri": "https://localhost:8080/"
        },
        "id": "MsXmHu9y685H",
        "outputId": "6ce0acfc-3caf-4e11-d226-29006fe9fef8"
      },
      "execution_count": 4,
      "outputs": [
        {
          "output_type": "stream",
          "name": "stdout",
          "text": [
            "+---+----+\n",
            "| id|name|\n",
            "+---+----+\n",
            "|  1| ram|\n",
            "|  2|ravi|\n",
            "+---+----+\n",
            "\n",
            "root\n",
            " |-- id: long (nullable = true)\n",
            " |-- name: string (nullable = true)\n",
            "\n"
          ]
        }
      ]
    },
    {
      "cell_type": "code",
      "source": [
        "#converting DF to Json format by writing df in json file format\n",
        "df.write.format('json').mode('overwrite').option('path','/content/drive/MyDrive/Colab Notebooks/Data/write operations/json write').save()"
      ],
      "metadata": {
        "id": "KZk2Kbpa7EXu"
      },
      "execution_count": 6,
      "outputs": []
    },
    {
      "cell_type": "code",
      "source": [
        "#reading json file format\n",
        "df1=spark.read.format('json').option('path','/content/drive/MyDrive/Colab Notebooks/Data/write operations/json write').load()"
      ],
      "metadata": {
        "id": "O0DTSXME8BUj"
      },
      "execution_count": 7,
      "outputs": []
    },
    {
      "cell_type": "code",
      "source": [
        "df1.show()"
      ],
      "metadata": {
        "colab": {
          "base_uri": "https://localhost:8080/"
        },
        "id": "ovbCKb0S8jyz",
        "outputId": "4c412002-5d41-46bf-9735-8e69e61241d7"
      },
      "execution_count": 8,
      "outputs": [
        {
          "output_type": "stream",
          "name": "stdout",
          "text": [
            "+---+----+\n",
            "| id|name|\n",
            "+---+----+\n",
            "|  2|ravi|\n",
            "|  1| ram|\n",
            "+---+----+\n",
            "\n"
          ]
        }
      ]
    },
    {
      "cell_type": "code",
      "source": [],
      "metadata": {
        "id": "5U8iUzbt8myj"
      },
      "execution_count": null,
      "outputs": []
    }
  ]
}