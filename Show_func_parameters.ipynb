{
  "nbformat": 4,
  "nbformat_minor": 0,
  "metadata": {
    "colab": {
      "provenance": [],
      "authorship_tag": "ABX9TyOrHPZs6JRJ4w3qU3O+0wgw",
      "include_colab_link": true
    },
    "kernelspec": {
      "name": "python3",
      "display_name": "Python 3"
    },
    "language_info": {
      "name": "python"
    }
  },
  "cells": [
    {
      "cell_type": "markdown",
      "metadata": {
        "id": "view-in-github",
        "colab_type": "text"
      },
      "source": [
        "<a href=\"https://colab.research.google.com/github/SRINIVAS-BANOTHU/Pyspark-practice/blob/main/Show_func_parameters.ipynb\" target=\"_parent\"><img src=\"https://colab.research.google.com/assets/colab-badge.svg\" alt=\"Open In Colab\"/></a>"
      ]
    },
    {
      "cell_type": "code",
      "execution_count": 1,
      "metadata": {
        "id": "0mxBYefFE2ly"
      },
      "outputs": [],
      "source": [
        "from pyspark.sql import SparkSession"
      ]
    },
    {
      "cell_type": "code",
      "source": [
        "spark=SparkSession.builder.appName(\"pyspark_test\").getOrCreate()"
      ],
      "metadata": {
        "id": "SW3idoofF15k"
      },
      "execution_count": 2,
      "outputs": []
    },
    {
      "cell_type": "code",
      "source": [
        "#creating DF\n",
        "data=[(1,\"akdbasjnbaifgeofiaebfkjjs\"),(2,\"WWDBkwndbwioqwhwoihiwdoqwhkjdbd\"),\n",
        "      (3,\"oihkjwdbiafgiseugfiefbwufhwu\"),(4,\"ugfkjebfwieufgwiufbiufgferiufg\")]\n",
        "schema=[\"id\",\"name\"]\n",
        "df=spark.createDataFrame(data,schema)"
      ],
      "metadata": {
        "id": "vIzZNRbiF7tX"
      },
      "execution_count": 5,
      "outputs": []
    },
    {
      "cell_type": "code",
      "source": [
        "df.show()"
      ],
      "metadata": {
        "colab": {
          "base_uri": "https://localhost:8080/"
        },
        "id": "HOIYf1ZgGhOr",
        "outputId": "d62d5841-b238-4540-f0b4-e3ae092b331d"
      },
      "execution_count": 6,
      "outputs": [
        {
          "output_type": "stream",
          "name": "stdout",
          "text": [
            "+---+--------------------+\n",
            "| id|                name|\n",
            "+---+--------------------+\n",
            "|  1|akdbasjnbaifgeofi...|\n",
            "|  2|WWDBkwndbwioqwhwo...|\n",
            "|  3|oihkjwdbiafgiseug...|\n",
            "|  4|ugfkjebfwieufgwiu...|\n",
            "+---+--------------------+\n",
            "\n"
          ]
        }
      ]
    },
    {
      "cell_type": "markdown",
      "source": [
        "by default show() shows only 20 charecters per column as shown above\n",
        "and it displays only 20 records by default"
      ],
      "metadata": {
        "id": "j6Ct2pTBGwNn"
      }
    },
    {
      "cell_type": "code",
      "source": [
        "#to print all characters we use parameter \"truncate\"\n",
        "df.show(truncate=False)"
      ],
      "metadata": {
        "colab": {
          "base_uri": "https://localhost:8080/"
        },
        "id": "JsgUfJboGrJz",
        "outputId": "755b872c-5a6d-4b51-9035-3d4df5e3d2f8"
      },
      "execution_count": 8,
      "outputs": [
        {
          "output_type": "stream",
          "name": "stdout",
          "text": [
            "+---+-------------------------------+\n",
            "|id |name                           |\n",
            "+---+-------------------------------+\n",
            "|1  |akdbasjnbaifgeofiaebfkjjs      |\n",
            "|2  |WWDBkwndbwioqwhwoihiwdoqwhkjdbd|\n",
            "|3  |oihkjwdbiafgiseugfiefbwufhwu   |\n",
            "|4  |ugfkjebfwieufgwiufbiufgferiufg |\n",
            "+---+-------------------------------+\n",
            "\n"
          ]
        }
      ]
    },
    {
      "cell_type": "code",
      "source": [
        "#to print only n charecters\n",
        "df.show(truncate=8)"
      ],
      "metadata": {
        "colab": {
          "base_uri": "https://localhost:8080/"
        },
        "id": "6dDdBKTcHD-f",
        "outputId": "ceb4fc36-de12-44b7-e9db-2a09f2d0df3c"
      },
      "execution_count": 9,
      "outputs": [
        {
          "output_type": "stream",
          "name": "stdout",
          "text": [
            "+---+--------+\n",
            "| id|    name|\n",
            "+---+--------+\n",
            "|  1|akdba...|\n",
            "|  2|WWDBk...|\n",
            "|  3|oihkj...|\n",
            "|  4|ugfkj...|\n",
            "+---+--------+\n",
            "\n"
          ]
        }
      ]
    },
    {
      "cell_type": "code",
      "source": [
        "#to show only 2 records we use parameter \"n\"\n",
        "df.show(n=3,truncate=False)"
      ],
      "metadata": {
        "colab": {
          "base_uri": "https://localhost:8080/"
        },
        "id": "XgGFfSVnHfUi",
        "outputId": "f5e9c4d8-8a47-4c39-b7cc-224698c62363"
      },
      "execution_count": 10,
      "outputs": [
        {
          "output_type": "stream",
          "name": "stdout",
          "text": [
            "+---+-------------------------------+\n",
            "|id |name                           |\n",
            "+---+-------------------------------+\n",
            "|1  |akdbasjnbaifgeofiaebfkjjs      |\n",
            "|2  |WWDBkwndbwioqwhwoihiwdoqwhkjdbd|\n",
            "|3  |oihkjwdbiafgiseugfiefbwufhwu   |\n",
            "+---+-------------------------------+\n",
            "only showing top 3 rows\n",
            "\n"
          ]
        }
      ]
    },
    {
      "cell_type": "code",
      "source": [
        "df.show(n=3,truncate=False,vertical=True)"
      ],
      "metadata": {
        "colab": {
          "base_uri": "https://localhost:8080/"
        },
        "id": "1RbiLWK7H59u",
        "outputId": "ebd4a527-fafa-4387-bd1f-6f6ae56f42cb"
      },
      "execution_count": 11,
      "outputs": [
        {
          "output_type": "stream",
          "name": "stdout",
          "text": [
            "-RECORD 0-------------------------------\n",
            " id   | 1                               \n",
            " name | akdbasjnbaifgeofiaebfkjjs       \n",
            "-RECORD 1-------------------------------\n",
            " id   | 2                               \n",
            " name | WWDBkwndbwioqwhwoihiwdoqwhkjdbd \n",
            "-RECORD 2-------------------------------\n",
            " id   | 3                               \n",
            " name | oihkjwdbiafgiseugfiefbwufhwu    \n",
            "only showing top 3 rows\n",
            "\n"
          ]
        }
      ]
    },
    {
      "cell_type": "code",
      "source": [],
      "metadata": {
        "id": "81QtfajxIV7g"
      },
      "execution_count": null,
      "outputs": []
    }
  ]
}